{
 "cells": [
  {
   "cell_type": "code",
   "execution_count": 1,
   "metadata": {},
   "outputs": [],
   "source": [
    "import numpy as np\n",
    "import scipy.linalg as la\n"
   ]
  },
  {
   "cell_type": "code",
   "execution_count": 20,
   "metadata": {},
   "outputs": [
    {
     "name": "stdout",
     "output_type": "stream",
     "text": [
      "[[0.52774786]\n",
      " [0.50489605]\n",
      " [0.68305357]]\n",
      "[0.52774779 0.50489607 0.6830536 ]\n"
     ]
    }
   ],
   "source": [
    "A=np.array([[1,2,3],[2,2,2],[3,2,3]])\n",
    "x0=np.array([1,0,0]).reshape(-1,1)\n",
    "Ak=np.linalg.matrix_power(A,10)\n",
    "xk=Ak@x0\n",
    "# print(xk)\n",
    "# print((xk/np.linalg.norm(xk)))\n",
    "\n",
    "valores,vectores=np.linalg.eig(A)\n",
    "# print(valores)\n",
    "v1=vectores[:,0]\n",
    "aux=v1/np.linalg.norm(v1)\n",
    "# print(aux)\n"
   ]
  },
  {
   "cell_type": "code",
   "execution_count": 56,
   "metadata": {},
   "outputs": [
    {
     "name": "stdout",
     "output_type": "stream",
     "text": [
      "[20.17942403 -3.19261095  3.45327435  3.55991258]\n",
      "[20.17942403 -3.19261095  3.55991258  3.45327435]\n",
      "[   1.  -24.   67.  243. -792.]\n"
     ]
    }
   ],
   "source": [
    "A=np.random.randint(1,10,size=[4,4])\n",
    "At=A.transpose()\n",
    "\n",
    "valoresA,vectoresA=np.linalg.eig(A)\n",
    "valoresAt,vectoresAt=np.linalg.eig(At)\n",
    "print(valoresA)\n",
    "print(valoresAt)\n",
    "print(np.poly(valoresA))\n",
    "# print(vectoresA)\n",
    "# print(vectoresAt)"
   ]
  },
  {
   "cell_type": "code",
   "execution_count": 59,
   "metadata": {},
   "outputs": [
    {
     "name": "stdout",
     "output_type": "stream",
     "text": [
      "[ 3.12788206 -0.12788206  1.        ]\n",
      "[ 1.  -4.   2.6  0.4]\n",
      "[2.70415946 0.29584054 1.        ]\n",
      "[ 1.  -4.   3.8 -0.8]\n",
      "[2. 1. 1.]\n",
      "[ 1. -4.  5. -2.]\n",
      "[1.5+0.97467943j 1.5-0.97467943j 1. +0.j        ]\n",
      "[ 1.  -4.   6.2 -3.2]\n",
      "[1.5+1.46628783j 1.5-1.46628783j 1. +0.j        ]\n",
      "[ 1.  -4.   7.4 -4.4]\n"
     ]
    }
   ],
   "source": [
    "lista = [31.8, 31.9, 32, 32.1, 32.2]\n",
    "for a in lista:\n",
    "    A = np.array([[-6, 28, 21],[4, -15, -12],[-8, a, 25]])\n",
    "    evalues,evectors=np.linalg.eig(A)\n",
    "    print(np.poly(evalues))\n"
   ]
  },
  {
   "cell_type": "code",
   "execution_count": 62,
   "metadata": {},
   "outputs": [
    {
     "name": "stdout",
     "output_type": "stream",
     "text": [
      "[ 6.79624015 -1.26244658  0.46620643]\n"
     ]
    }
   ],
   "source": [
    "k=17\n",
    "A=np.array([[1,2,3],[2,2,2],[3,2,3]])\n",
    "Aj=np.copy(A)\n",
    "while k>0:\n",
    "    Q,R=np.linalg.qr(Aj)\n",
    "    Aj=R@Q\n",
    "    k-=1\n",
    "print(Aj.diagonal())\n",
    "valores,vectores=np.linalg.eig(A)\n",
    "print(valores)"
   ]
  }
 ],
 "metadata": {
  "kernelspec": {
   "display_name": "metodos",
   "language": "python",
   "name": "python3"
  },
  "language_info": {
   "codemirror_mode": {
    "name": "ipython",
    "version": 3
   },
   "file_extension": ".py",
   "mimetype": "text/x-python",
   "name": "python",
   "nbconvert_exporter": "python",
   "pygments_lexer": "ipython3",
   "version": "3.10.9"
  },
  "orig_nbformat": 4
 },
 "nbformat": 4,
 "nbformat_minor": 2
}
